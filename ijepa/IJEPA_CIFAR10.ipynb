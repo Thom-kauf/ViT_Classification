{
 "cells": [
  {
   "cell_type": "markdown",
   "metadata": {
    "id": "Fz_liu0Icq9n"
   },
   "source": [
    "Using sources:\n",
    "\n",
    "https://huggingface.co/blog/fine-tune-vit"
   ]
  },
  {
   "cell_type": "markdown",
   "metadata": {
    "id": "moTCRZQGWvID"
   },
   "source": [
    "## Set up drive and libraries"
   ]
  },
  {
   "cell_type": "code",
   "execution_count": 1,
   "metadata": {
    "colab": {
     "base_uri": "https://localhost:8080/"
    },
    "executionInfo": {
     "elapsed": 19669,
     "status": "ok",
     "timestamp": 1730589628131,
     "user": {
      "displayName": "THOMAS KAUFFMAN",
      "userId": "10973091953636753003"
     },
     "user_tz": 360
    },
    "id": "NkyRYtHXWH0l",
    "outputId": "4f46d3f0-b33a-436a-d610-603fcb2a7f5e"
   },
   "outputs": [
    {
     "name": "stderr",
     "output_type": "stream",
     "text": [
      "/home/tomtom/.local/lib/python3.10/site-packages/tqdm/auto.py:21: TqdmWarning: IProgress not found. Please update jupyter and ipywidgets. See https://ipywidgets.readthedocs.io/en/stable/user_install.html\n",
      "  from .autonotebook import tqdm as notebook_tqdm\n"
     ]
    }
   ],
   "source": [
    "# from google.colab import drive\n",
    "import numpy as np\n",
    "from datasets import load_dataset\n",
    "import sys\n",
    "import torch\n",
    "# import timm\n",
    "from torchvision import datasets, transforms\n",
    "import matplotlib.pyplot as plt\n",
    "from PIL import Image\n",
    "import torch.nn as nn\n",
    "from src.datasets.imagenet1k import make_imagenet1k as asdf\n",
    "from src.transforms import make_transforms\n",
    "from src import helper\n",
    "from src.models import vision_transformer\n",
    "from datasets import Dataset, DatasetDict\n"
   ]
  },
  {
   "cell_type": "code",
   "execution_count": 56,
   "metadata": {
    "executionInfo": {
     "elapsed": 904,
     "status": "ok",
     "timestamp": 1730589632121,
     "user": {
      "displayName": "THOMAS KAUFFMAN",
      "userId": "10973091953636753003"
     },
     "user_tz": 360
    },
    "id": "MUtFhOu3vQ4O"
   },
   "outputs": [
    {
     "name": "stdout",
     "output_type": "stream",
     "text": [
      "INFO:root:making imagenet data transforms\n"
     ]
    }
   ],
   "source": [
    "transform = make_transforms(\n",
    "    crop_size=224,\n",
    "    crop_scale=[0.3, 1.0],\n",
    "    gaussian_blur=False,\n",
    "    horizontal_flip=False,\n",
    "    color_distortion=False,\n",
    "    color_jitter=0.0)\n",
    "\n",
    "transform_with_resize = transforms.Compose([\n",
    "  transforms.Resize((224, 224)),\n",
    "  transform\n",
    "  ])"
   ]
  },
  {
   "cell_type": "markdown",
   "metadata": {
    "id": "YValhenHv5HX"
   },
   "source": [
    "Get CIFAR-10"
   ]
  },
  {
   "cell_type": "code",
   "execution_count": 57,
   "metadata": {
    "colab": {
     "base_uri": "https://localhost:8080/"
    },
    "executionInfo": {
     "elapsed": 11119,
     "status": "ok",
     "timestamp": 1730589644713,
     "user": {
      "displayName": "THOMAS KAUFFMAN",
      "userId": "10973091953636753003"
     },
     "user_tz": 360
    },
    "id": "QZdLnKQYXGhR",
    "outputId": "2ebd4fb2-9e09-4f3a-eea3-5195c1823947"
   },
   "outputs": [],
   "source": [
    "cifar10 = load_dataset(\"cifar10\")\n",
    "\n",
    "train_val_split = cifar10['train'].train_test_split(test_size=0.3, seed=1)\n",
    "\n",
    "train_set = train_val_split['train']\n",
    "val_set = train_val_split['test']\n",
    "test_set = cifar10['test']"
   ]
  },
  {
   "cell_type": "code",
   "execution_count": 4,
   "metadata": {
    "colab": {
     "base_uri": "https://localhost:8080/"
    },
    "executionInfo": {
     "elapsed": 63604,
     "status": "ok",
     "timestamp": 1730589711795,
     "user": {
      "displayName": "THOMAS KAUFFMAN",
      "userId": "10973091953636753003"
     },
     "user_tz": 360
    },
    "id": "hWGBCu8q-VTM",
    "outputId": "a7f001da-4550-40fa-a9dd-7512df5cf6d5"
   },
   "outputs": [
    {
     "name": "stderr",
     "output_type": "stream",
     "text": [
      "/tmp/ipykernel_8128/3593421671.py:3: FutureWarning: You are using `torch.load` with `weights_only=False` (the current default value), which uses the default pickle module implicitly. It is possible to construct malicious pickle data which will execute arbitrary code during unpickling (See https://github.com/pytorch/pytorch/blob/main/SECURITY.md#untrusted-models for more details). In a future release, the default value for `weights_only` will be flipped to `True`. This limits the functions that could be executed during unpickling. Arbitrary objects will no longer be allowed to be loaded via this mode unless they are explicitly allowlisted by the user via `torch.serialization.add_safe_globals`. We recommend you start setting `weights_only=True` for any use case where you don't have full control of the loaded file. Please open an issue on GitHub for any issues related to this experimental feature.\n",
      "  checkpoint = torch.load(CHECKPOINT_FILE, map_location=torch.device('cpu'))\n"
     ]
    }
   ],
   "source": [
    "CHECKPOINT_FILE = './checkpoint/IN1K-vit.h.14-300e.pth.tar'\n",
    "\n",
    "checkpoint = torch.load(CHECKPOINT_FILE, map_location=torch.device('cpu'))\n",
    "\n"
   ]
  },
  {
   "cell_type": "code",
   "execution_count": 5,
   "metadata": {
    "colab": {
     "base_uri": "https://localhost:8080/"
    },
    "executionInfo": {
     "elapsed": 7,
     "status": "ok",
     "timestamp": 1730589711795,
     "user": {
      "displayName": "THOMAS KAUFFMAN",
      "userId": "10973091953636753003"
     },
     "user_tz": 360
    },
    "id": "D4h0HI1OR6Jn",
    "outputId": "4ef5f57b-25cb-4361-bd58-88c2ce5d2c3e"
   },
   "outputs": [
    {
     "data": {
      "text/plain": [
       "9"
      ]
     },
     "execution_count": 5,
     "metadata": {},
     "output_type": "execute_result"
    }
   ],
   "source": [
    "\n",
    "target_encoder_weights = checkpoint['target_encoder']\n",
    "del checkpoint\n",
    "import gc\n",
    "gc.collect()  # Force garbage collection to free up memory\n"
   ]
  },
  {
   "cell_type": "code",
   "execution_count": 6,
   "metadata": {
    "colab": {
     "base_uri": "https://localhost:8080/"
    },
    "executionInfo": {
     "elapsed": 5,
     "status": "ok",
     "timestamp": 1730589711795,
     "user": {
      "displayName": "THOMAS KAUFFMAN",
      "userId": "10973091953636753003"
     },
     "user_tz": 360
    },
    "id": "pf2nErcffCXZ",
    "outputId": "478a783b-4616-40e0-efa1-805b1f1a195a"
   },
   "outputs": [
    {
     "name": "stdout",
     "output_type": "stream",
     "text": [
      "odict_keys(['module.pos_embed', 'module.patch_embed.proj.weight', 'module.patch_embed.proj.bias', 'module.blocks.0.norm1.weight', 'module.blocks.0.norm1.bias', 'module.blocks.0.attn.qkv.weight', 'module.blocks.0.attn.qkv.bias', 'module.blocks.0.attn.proj.weight', 'module.blocks.0.attn.proj.bias', 'module.blocks.0.norm2.weight', 'module.blocks.0.norm2.bias', 'module.blocks.0.mlp.fc1.weight', 'module.blocks.0.mlp.fc1.bias', 'module.blocks.0.mlp.fc2.weight', 'module.blocks.0.mlp.fc2.bias', 'module.blocks.1.norm1.weight', 'module.blocks.1.norm1.bias', 'module.blocks.1.attn.qkv.weight', 'module.blocks.1.attn.qkv.bias', 'module.blocks.1.attn.proj.weight', 'module.blocks.1.attn.proj.bias', 'module.blocks.1.norm2.weight', 'module.blocks.1.norm2.bias', 'module.blocks.1.mlp.fc1.weight', 'module.blocks.1.mlp.fc1.bias', 'module.blocks.1.mlp.fc2.weight', 'module.blocks.1.mlp.fc2.bias', 'module.blocks.2.norm1.weight', 'module.blocks.2.norm1.bias', 'module.blocks.2.attn.qkv.weight', 'module.blocks.2.attn.qkv.bias', 'module.blocks.2.attn.proj.weight', 'module.blocks.2.attn.proj.bias', 'module.blocks.2.norm2.weight', 'module.blocks.2.norm2.bias', 'module.blocks.2.mlp.fc1.weight', 'module.blocks.2.mlp.fc1.bias', 'module.blocks.2.mlp.fc2.weight', 'module.blocks.2.mlp.fc2.bias', 'module.blocks.3.norm1.weight', 'module.blocks.3.norm1.bias', 'module.blocks.3.attn.qkv.weight', 'module.blocks.3.attn.qkv.bias', 'module.blocks.3.attn.proj.weight', 'module.blocks.3.attn.proj.bias', 'module.blocks.3.norm2.weight', 'module.blocks.3.norm2.bias', 'module.blocks.3.mlp.fc1.weight', 'module.blocks.3.mlp.fc1.bias', 'module.blocks.3.mlp.fc2.weight', 'module.blocks.3.mlp.fc2.bias', 'module.blocks.4.norm1.weight', 'module.blocks.4.norm1.bias', 'module.blocks.4.attn.qkv.weight', 'module.blocks.4.attn.qkv.bias', 'module.blocks.4.attn.proj.weight', 'module.blocks.4.attn.proj.bias', 'module.blocks.4.norm2.weight', 'module.blocks.4.norm2.bias', 'module.blocks.4.mlp.fc1.weight', 'module.blocks.4.mlp.fc1.bias', 'module.blocks.4.mlp.fc2.weight', 'module.blocks.4.mlp.fc2.bias', 'module.blocks.5.norm1.weight', 'module.blocks.5.norm1.bias', 'module.blocks.5.attn.qkv.weight', 'module.blocks.5.attn.qkv.bias', 'module.blocks.5.attn.proj.weight', 'module.blocks.5.attn.proj.bias', 'module.blocks.5.norm2.weight', 'module.blocks.5.norm2.bias', 'module.blocks.5.mlp.fc1.weight', 'module.blocks.5.mlp.fc1.bias', 'module.blocks.5.mlp.fc2.weight', 'module.blocks.5.mlp.fc2.bias', 'module.blocks.6.norm1.weight', 'module.blocks.6.norm1.bias', 'module.blocks.6.attn.qkv.weight', 'module.blocks.6.attn.qkv.bias', 'module.blocks.6.attn.proj.weight', 'module.blocks.6.attn.proj.bias', 'module.blocks.6.norm2.weight', 'module.blocks.6.norm2.bias', 'module.blocks.6.mlp.fc1.weight', 'module.blocks.6.mlp.fc1.bias', 'module.blocks.6.mlp.fc2.weight', 'module.blocks.6.mlp.fc2.bias', 'module.blocks.7.norm1.weight', 'module.blocks.7.norm1.bias', 'module.blocks.7.attn.qkv.weight', 'module.blocks.7.attn.qkv.bias', 'module.blocks.7.attn.proj.weight', 'module.blocks.7.attn.proj.bias', 'module.blocks.7.norm2.weight', 'module.blocks.7.norm2.bias', 'module.blocks.7.mlp.fc1.weight', 'module.blocks.7.mlp.fc1.bias', 'module.blocks.7.mlp.fc2.weight', 'module.blocks.7.mlp.fc2.bias', 'module.blocks.8.norm1.weight', 'module.blocks.8.norm1.bias', 'module.blocks.8.attn.qkv.weight', 'module.blocks.8.attn.qkv.bias', 'module.blocks.8.attn.proj.weight', 'module.blocks.8.attn.proj.bias', 'module.blocks.8.norm2.weight', 'module.blocks.8.norm2.bias', 'module.blocks.8.mlp.fc1.weight', 'module.blocks.8.mlp.fc1.bias', 'module.blocks.8.mlp.fc2.weight', 'module.blocks.8.mlp.fc2.bias', 'module.blocks.9.norm1.weight', 'module.blocks.9.norm1.bias', 'module.blocks.9.attn.qkv.weight', 'module.blocks.9.attn.qkv.bias', 'module.blocks.9.attn.proj.weight', 'module.blocks.9.attn.proj.bias', 'module.blocks.9.norm2.weight', 'module.blocks.9.norm2.bias', 'module.blocks.9.mlp.fc1.weight', 'module.blocks.9.mlp.fc1.bias', 'module.blocks.9.mlp.fc2.weight', 'module.blocks.9.mlp.fc2.bias', 'module.blocks.10.norm1.weight', 'module.blocks.10.norm1.bias', 'module.blocks.10.attn.qkv.weight', 'module.blocks.10.attn.qkv.bias', 'module.blocks.10.attn.proj.weight', 'module.blocks.10.attn.proj.bias', 'module.blocks.10.norm2.weight', 'module.blocks.10.norm2.bias', 'module.blocks.10.mlp.fc1.weight', 'module.blocks.10.mlp.fc1.bias', 'module.blocks.10.mlp.fc2.weight', 'module.blocks.10.mlp.fc2.bias', 'module.blocks.11.norm1.weight', 'module.blocks.11.norm1.bias', 'module.blocks.11.attn.qkv.weight', 'module.blocks.11.attn.qkv.bias', 'module.blocks.11.attn.proj.weight', 'module.blocks.11.attn.proj.bias', 'module.blocks.11.norm2.weight', 'module.blocks.11.norm2.bias', 'module.blocks.11.mlp.fc1.weight', 'module.blocks.11.mlp.fc1.bias', 'module.blocks.11.mlp.fc2.weight', 'module.blocks.11.mlp.fc2.bias', 'module.blocks.12.norm1.weight', 'module.blocks.12.norm1.bias', 'module.blocks.12.attn.qkv.weight', 'module.blocks.12.attn.qkv.bias', 'module.blocks.12.attn.proj.weight', 'module.blocks.12.attn.proj.bias', 'module.blocks.12.norm2.weight', 'module.blocks.12.norm2.bias', 'module.blocks.12.mlp.fc1.weight', 'module.blocks.12.mlp.fc1.bias', 'module.blocks.12.mlp.fc2.weight', 'module.blocks.12.mlp.fc2.bias', 'module.blocks.13.norm1.weight', 'module.blocks.13.norm1.bias', 'module.blocks.13.attn.qkv.weight', 'module.blocks.13.attn.qkv.bias', 'module.blocks.13.attn.proj.weight', 'module.blocks.13.attn.proj.bias', 'module.blocks.13.norm2.weight', 'module.blocks.13.norm2.bias', 'module.blocks.13.mlp.fc1.weight', 'module.blocks.13.mlp.fc1.bias', 'module.blocks.13.mlp.fc2.weight', 'module.blocks.13.mlp.fc2.bias', 'module.blocks.14.norm1.weight', 'module.blocks.14.norm1.bias', 'module.blocks.14.attn.qkv.weight', 'module.blocks.14.attn.qkv.bias', 'module.blocks.14.attn.proj.weight', 'module.blocks.14.attn.proj.bias', 'module.blocks.14.norm2.weight', 'module.blocks.14.norm2.bias', 'module.blocks.14.mlp.fc1.weight', 'module.blocks.14.mlp.fc1.bias', 'module.blocks.14.mlp.fc2.weight', 'module.blocks.14.mlp.fc2.bias', 'module.blocks.15.norm1.weight', 'module.blocks.15.norm1.bias', 'module.blocks.15.attn.qkv.weight', 'module.blocks.15.attn.qkv.bias', 'module.blocks.15.attn.proj.weight', 'module.blocks.15.attn.proj.bias', 'module.blocks.15.norm2.weight', 'module.blocks.15.norm2.bias', 'module.blocks.15.mlp.fc1.weight', 'module.blocks.15.mlp.fc1.bias', 'module.blocks.15.mlp.fc2.weight', 'module.blocks.15.mlp.fc2.bias', 'module.blocks.16.norm1.weight', 'module.blocks.16.norm1.bias', 'module.blocks.16.attn.qkv.weight', 'module.blocks.16.attn.qkv.bias', 'module.blocks.16.attn.proj.weight', 'module.blocks.16.attn.proj.bias', 'module.blocks.16.norm2.weight', 'module.blocks.16.norm2.bias', 'module.blocks.16.mlp.fc1.weight', 'module.blocks.16.mlp.fc1.bias', 'module.blocks.16.mlp.fc2.weight', 'module.blocks.16.mlp.fc2.bias', 'module.blocks.17.norm1.weight', 'module.blocks.17.norm1.bias', 'module.blocks.17.attn.qkv.weight', 'module.blocks.17.attn.qkv.bias', 'module.blocks.17.attn.proj.weight', 'module.blocks.17.attn.proj.bias', 'module.blocks.17.norm2.weight', 'module.blocks.17.norm2.bias', 'module.blocks.17.mlp.fc1.weight', 'module.blocks.17.mlp.fc1.bias', 'module.blocks.17.mlp.fc2.weight', 'module.blocks.17.mlp.fc2.bias', 'module.blocks.18.norm1.weight', 'module.blocks.18.norm1.bias', 'module.blocks.18.attn.qkv.weight', 'module.blocks.18.attn.qkv.bias', 'module.blocks.18.attn.proj.weight', 'module.blocks.18.attn.proj.bias', 'module.blocks.18.norm2.weight', 'module.blocks.18.norm2.bias', 'module.blocks.18.mlp.fc1.weight', 'module.blocks.18.mlp.fc1.bias', 'module.blocks.18.mlp.fc2.weight', 'module.blocks.18.mlp.fc2.bias', 'module.blocks.19.norm1.weight', 'module.blocks.19.norm1.bias', 'module.blocks.19.attn.qkv.weight', 'module.blocks.19.attn.qkv.bias', 'module.blocks.19.attn.proj.weight', 'module.blocks.19.attn.proj.bias', 'module.blocks.19.norm2.weight', 'module.blocks.19.norm2.bias', 'module.blocks.19.mlp.fc1.weight', 'module.blocks.19.mlp.fc1.bias', 'module.blocks.19.mlp.fc2.weight', 'module.blocks.19.mlp.fc2.bias', 'module.blocks.20.norm1.weight', 'module.blocks.20.norm1.bias', 'module.blocks.20.attn.qkv.weight', 'module.blocks.20.attn.qkv.bias', 'module.blocks.20.attn.proj.weight', 'module.blocks.20.attn.proj.bias', 'module.blocks.20.norm2.weight', 'module.blocks.20.norm2.bias', 'module.blocks.20.mlp.fc1.weight', 'module.blocks.20.mlp.fc1.bias', 'module.blocks.20.mlp.fc2.weight', 'module.blocks.20.mlp.fc2.bias', 'module.blocks.21.norm1.weight', 'module.blocks.21.norm1.bias', 'module.blocks.21.attn.qkv.weight', 'module.blocks.21.attn.qkv.bias', 'module.blocks.21.attn.proj.weight', 'module.blocks.21.attn.proj.bias', 'module.blocks.21.norm2.weight', 'module.blocks.21.norm2.bias', 'module.blocks.21.mlp.fc1.weight', 'module.blocks.21.mlp.fc1.bias', 'module.blocks.21.mlp.fc2.weight', 'module.blocks.21.mlp.fc2.bias', 'module.blocks.22.norm1.weight', 'module.blocks.22.norm1.bias', 'module.blocks.22.attn.qkv.weight', 'module.blocks.22.attn.qkv.bias', 'module.blocks.22.attn.proj.weight', 'module.blocks.22.attn.proj.bias', 'module.blocks.22.norm2.weight', 'module.blocks.22.norm2.bias', 'module.blocks.22.mlp.fc1.weight', 'module.blocks.22.mlp.fc1.bias', 'module.blocks.22.mlp.fc2.weight', 'module.blocks.22.mlp.fc2.bias', 'module.blocks.23.norm1.weight', 'module.blocks.23.norm1.bias', 'module.blocks.23.attn.qkv.weight', 'module.blocks.23.attn.qkv.bias', 'module.blocks.23.attn.proj.weight', 'module.blocks.23.attn.proj.bias', 'module.blocks.23.norm2.weight', 'module.blocks.23.norm2.bias', 'module.blocks.23.mlp.fc1.weight', 'module.blocks.23.mlp.fc1.bias', 'module.blocks.23.mlp.fc2.weight', 'module.blocks.23.mlp.fc2.bias', 'module.blocks.24.norm1.weight', 'module.blocks.24.norm1.bias', 'module.blocks.24.attn.qkv.weight', 'module.blocks.24.attn.qkv.bias', 'module.blocks.24.attn.proj.weight', 'module.blocks.24.attn.proj.bias', 'module.blocks.24.norm2.weight', 'module.blocks.24.norm2.bias', 'module.blocks.24.mlp.fc1.weight', 'module.blocks.24.mlp.fc1.bias', 'module.blocks.24.mlp.fc2.weight', 'module.blocks.24.mlp.fc2.bias', 'module.blocks.25.norm1.weight', 'module.blocks.25.norm1.bias', 'module.blocks.25.attn.qkv.weight', 'module.blocks.25.attn.qkv.bias', 'module.blocks.25.attn.proj.weight', 'module.blocks.25.attn.proj.bias', 'module.blocks.25.norm2.weight', 'module.blocks.25.norm2.bias', 'module.blocks.25.mlp.fc1.weight', 'module.blocks.25.mlp.fc1.bias', 'module.blocks.25.mlp.fc2.weight', 'module.blocks.25.mlp.fc2.bias', 'module.blocks.26.norm1.weight', 'module.blocks.26.norm1.bias', 'module.blocks.26.attn.qkv.weight', 'module.blocks.26.attn.qkv.bias', 'module.blocks.26.attn.proj.weight', 'module.blocks.26.attn.proj.bias', 'module.blocks.26.norm2.weight', 'module.blocks.26.norm2.bias', 'module.blocks.26.mlp.fc1.weight', 'module.blocks.26.mlp.fc1.bias', 'module.blocks.26.mlp.fc2.weight', 'module.blocks.26.mlp.fc2.bias', 'module.blocks.27.norm1.weight', 'module.blocks.27.norm1.bias', 'module.blocks.27.attn.qkv.weight', 'module.blocks.27.attn.qkv.bias', 'module.blocks.27.attn.proj.weight', 'module.blocks.27.attn.proj.bias', 'module.blocks.27.norm2.weight', 'module.blocks.27.norm2.bias', 'module.blocks.27.mlp.fc1.weight', 'module.blocks.27.mlp.fc1.bias', 'module.blocks.27.mlp.fc2.weight', 'module.blocks.27.mlp.fc2.bias', 'module.blocks.28.norm1.weight', 'module.blocks.28.norm1.bias', 'module.blocks.28.attn.qkv.weight', 'module.blocks.28.attn.qkv.bias', 'module.blocks.28.attn.proj.weight', 'module.blocks.28.attn.proj.bias', 'module.blocks.28.norm2.weight', 'module.blocks.28.norm2.bias', 'module.blocks.28.mlp.fc1.weight', 'module.blocks.28.mlp.fc1.bias', 'module.blocks.28.mlp.fc2.weight', 'module.blocks.28.mlp.fc2.bias', 'module.blocks.29.norm1.weight', 'module.blocks.29.norm1.bias', 'module.blocks.29.attn.qkv.weight', 'module.blocks.29.attn.qkv.bias', 'module.blocks.29.attn.proj.weight', 'module.blocks.29.attn.proj.bias', 'module.blocks.29.norm2.weight', 'module.blocks.29.norm2.bias', 'module.blocks.29.mlp.fc1.weight', 'module.blocks.29.mlp.fc1.bias', 'module.blocks.29.mlp.fc2.weight', 'module.blocks.29.mlp.fc2.bias', 'module.blocks.30.norm1.weight', 'module.blocks.30.norm1.bias', 'module.blocks.30.attn.qkv.weight', 'module.blocks.30.attn.qkv.bias', 'module.blocks.30.attn.proj.weight', 'module.blocks.30.attn.proj.bias', 'module.blocks.30.norm2.weight', 'module.blocks.30.norm2.bias', 'module.blocks.30.mlp.fc1.weight', 'module.blocks.30.mlp.fc1.bias', 'module.blocks.30.mlp.fc2.weight', 'module.blocks.30.mlp.fc2.bias', 'module.blocks.31.norm1.weight', 'module.blocks.31.norm1.bias', 'module.blocks.31.attn.qkv.weight', 'module.blocks.31.attn.qkv.bias', 'module.blocks.31.attn.proj.weight', 'module.blocks.31.attn.proj.bias', 'module.blocks.31.norm2.weight', 'module.blocks.31.norm2.bias', 'module.blocks.31.mlp.fc1.weight', 'module.blocks.31.mlp.fc1.bias', 'module.blocks.31.mlp.fc2.weight', 'module.blocks.31.mlp.fc2.bias', 'module.norm.weight', 'module.norm.bias'])\n"
     ]
    }
   ],
   "source": [
    "print(target_encoder_weights.keys())"
   ]
  },
  {
   "cell_type": "code",
   "execution_count": 63,
   "metadata": {
    "colab": {
     "base_uri": "https://localhost:8080/",
     "height": 49
    },
    "executionInfo": {
     "elapsed": 3,
     "status": "ok",
     "timestamp": 1730589711795,
     "user": {
      "displayName": "THOMAS KAUFFMAN",
      "userId": "10973091953636753003"
     },
     "user_tz": 360
    },
    "id": "w_IOzEsTDKJr",
    "outputId": "aac96abf-833c-4c58-c399-50436ac3a874"
   },
   "outputs": [
    {
     "data": {
      "image/jpeg": "[encoded data removed]",
      "image/png": "[encoded data removed]",
      "text/plain": [
       "<PIL.PngImagePlugin.PngImageFile image mode=RGB size=32x32>"
      ]
     },
     "execution_count": 63,
     "metadata": {},
     "output_type": "execute_result"
    }
   ],
   "source": [
    "cifar_ex = cifar10['train'][400]\n",
    "cifar_image = cifar_ex['img']\n",
    "cifar_image"
   ]
  },
  {
   "cell_type": "code",
   "execution_count": 64,
   "metadata": {
    "colab": {
     "base_uri": "https://localhost:8080/",
     "height": 423
    },
    "executionInfo": {
     "elapsed": 953,
     "status": "ok",
     "timestamp": 1730590027240,
     "user": {
      "displayName": "THOMAS KAUFFMAN",
      "userId": "10973091953636753003"
     },
     "user_tz": 360
    },
    "id": "Gn-znf8oDZYn",
    "outputId": "ad59e267-45f8-4c5a-9c07-f0a4a605fd08"
   },
   "outputs": [
    {
     "name": "stdout",
     "output_type": "stream",
     "text": [
      "WARNING:matplotlib.image:Clipping input data to the valid range for imshow with RGB data ([0..1] for floats or [0..255] for integers). Got range [-1.6212862..2.0125492].\n"
     ]
    },
    {
     "data": {
      "image/png": "[encoded data removed]",
      "text/plain": [
       "<Figure size 640x480 with 1 Axes>"
      ]
     },
     "metadata": {},
     "output_type": "display_data"
    }
   ],
   "source": [
    "input_tensor = transform_with_resize(cifar_image)#.unsqueeze(0)  # Add batch dimension\n",
    "\n",
    "\n",
    "# Convert tensor to numpy for display (and move channel dimension)\n",
    "image_for_visualization = input_tensor.permute(1, 2, 0).numpy()\n",
    "\n",
    "# Display the image using matplotlib\n",
    "plt.imshow(image_for_visualization)\n",
    "plt.axis('off')  # Hide axes\n",
    "plt.show()"
   ]
  },
  {
   "cell_type": "code",
   "execution_count": 9,
   "metadata": {
    "colab": {
     "base_uri": "https://localhost:8080/"
    },
    "id": "TqNfhJPAB83y",
    "outputId": "3f2b93e5-62ac-4fd8-a0f2-9f8c5e66099d"
   },
   "outputs": [
    {
     "name": "stdout",
     "output_type": "stream",
     "text": [
      "INFO:root:VisionTransformer(\n",
      "  (patch_embed): PatchEmbed(\n",
      "    (proj): Conv2d(3, 1280, kernel_size=(14, 14), stride=(14, 14))\n",
      "  )\n",
      "  (blocks): ModuleList(\n",
      "    (0-31): 32 x Block(\n",
      "      (norm1): LayerNorm((1280,), eps=1e-06, elementwise_affine=True)\n",
      "      (attn): Attention(\n",
      "        (qkv): Linear(in_features=1280, out_features=3840, bias=True)\n",
      "        (attn_drop): Dropout(p=0.0, inplace=False)\n",
      "        (proj): Linear(in_features=1280, out_features=1280, bias=True)\n",
      "        (proj_drop): Dropout(p=0.0, inplace=False)\n",
      "      )\n",
      "      (drop_path): Identity()\n",
      "      (norm2): LayerNorm((1280,), eps=1e-06, elementwise_affine=True)\n",
      "      (mlp): MLP(\n",
      "        (fc1): Linear(in_features=1280, out_features=5120, bias=True)\n",
      "        (act): GELU(approximate='none')\n",
      "        (fc2): Linear(in_features=5120, out_features=1280, bias=True)\n",
      "        (drop): Dropout(p=0.0, inplace=False)\n",
      "      )\n",
      "    )\n",
      "  )\n",
      "  (norm): LayerNorm((1280,), eps=1e-06, elementwise_affine=True)\n",
      ")\n"
     ]
    }
   ],
   "source": [
    "import copy\n",
    "d = torch.device('cuda:0')\n",
    "torch.cuda.set_device(d)\n",
    "encoder, predictor = helper.init_model(\n",
    "    device = d,\n",
    "    patch_size=14,\n",
    "    crop_size=224,\n",
    "    pred_depth=12,\n",
    "    pred_emb_dim=384,\n",
    "    model_name='vit_huge')\n",
    "target_encoder = copy.deepcopy(encoder)"
   ]
  },
  {
   "cell_type": "code",
   "execution_count": 10,
   "metadata": {},
   "outputs": [],
   "source": [
    "target_encoder_weights = {k.replace('module.', ''): v for k, v in target_encoder_weights.items()}\n",
    "target_encoder.eval()\n",
    "for p in target_encoder.parameters():\n",
    "    p.requires_grad = False\n",
    "\n",
    "msg = target_encoder.load_state_dict(target_encoder_weights)"
   ]
  },
  {
   "cell_type": "code",
   "execution_count": 48,
   "metadata": {},
   "outputs": [],
   "source": [
    "class EncodeClassifyNet(nn.Module):\n",
    "    def __init__(self, target_encoder, transform):\n",
    "        super().__init__()\n",
    "\n",
    "        self.model = nn.Sequential(\n",
    "            target_encoder,\n",
    "            nn.AvgPool2d(kernel_size=4, stride=4),\n",
    "            nn.Flatten(),\n",
    "            nn.Linear(320 * 64, 10)\n",
    "        )\n",
    "\n",
    "    def forward(self, x):\n",
    "        return self.model(x)"
   ]
  },
  {
   "cell_type": "code",
   "execution_count": 49,
   "metadata": {},
   "outputs": [],
   "source": [
    "NN = EncodeClassifyNet(target_encoder, transform)\n",
    "\n",
    "device = torch.device('cuda' if torch.cuda.is_available() else 'cpu')\n",
    "\n",
    "NN = NN.to(device)\n",
    "\n"
   ]
  },
  {
   "cell_type": "code",
   "execution_count": 58,
   "metadata": {},
   "outputs": [
    {
     "data": {
      "image/jpeg": "[encoded data removed]",
      "image/png": "[encoded data removed]",
      "text/plain": [
       "<PIL.PngImagePlugin.PngImageFile image mode=RGB size=32x32>"
      ]
     },
     "execution_count": 58,
     "metadata": {},
     "output_type": "execute_result"
    }
   ],
   "source": [
    "train_set['img'][0]\n"
   ]
  },
  {
   "cell_type": "code",
   "execution_count": 66,
   "metadata": {},
   "outputs": [
    {
     "name": "stdout",
     "output_type": "stream",
     "text": [
      "[<PIL.PngImagePlugin.PngImageFile image mode=RGB size=32x32 at 0x7F2ACD7933D0>, <PIL.PngImagePlugin.PngImageFile image mode=RGB size=32x32 at 0x7F2ACD7923E0>, <PIL.PngImagePlugin.PngImageFile image mode=RGB size=32x32 at 0x7F2ACD7934F0>, <PIL.PngImagePlugin.PngImageFile image mode=RGB size=32x32 at 0x7F2ACD7922C0>, <PIL.PngImagePlugin.PngImageFile image mode=RGB size=32x32 at 0x7F2ACD7917B0>, <PIL.PngImagePlugin.PngImageFile image mode=RGB size=32x32 at 0x7F2ACD791660>, <PIL.PngImagePlugin.PngImageFile image mode=RGB size=32x32 at 0x7F2ACD791450>, <PIL.PngImagePlugin.PngImageFile image mode=RGB size=32x32 at 0x7F2ACD7937C0>, <PIL.PngImagePlugin.PngImageFile image mode=RGB size=32x32 at 0x7F2ACD791630>, <PIL.PngImagePlugin.PngImageFile image mode=RGB size=32x32 at 0x7F2ACD793400>]\n"
     ]
    },
    {
     "ename": "TypeError",
     "evalue": "expected Tensor as element 0 in argument 0, but got PngImageFile",
     "output_type": "error",
     "traceback": [
      "\u001b[0;31m---------------------------------------------------------------------------\u001b[0m",
      "\u001b[0;31mTypeError\u001b[0m                                 Traceback (most recent call last)",
      "Cell \u001b[0;32mIn[66], line 5\u001b[0m\n\u001b[1;32m      2\u001b[0m imgs \u001b[38;5;241m=\u001b[39m \u001b[38;5;28mset\u001b[39m[\u001b[38;5;124m'\u001b[39m\u001b[38;5;124mimg\u001b[39m\u001b[38;5;124m'\u001b[39m]\n\u001b[1;32m      3\u001b[0m \u001b[38;5;28mprint\u001b[39m(imgs)\n\u001b[0;32m----> 5\u001b[0m input_tensor \u001b[38;5;241m=\u001b[39m transform_with_resize(\u001b[43mtorch\u001b[49m\u001b[38;5;241;43m.\u001b[39;49m\u001b[43mstack\u001b[49m\u001b[43m(\u001b[49m\u001b[43mimgs\u001b[49m\u001b[43m,\u001b[49m\u001b[43m \u001b[49m\u001b[43mdim\u001b[49m\u001b[38;5;241;43m=\u001b[39;49m\u001b[38;5;241;43m0\u001b[39;49m\u001b[43m)\u001b[49m)\n\u001b[1;32m      6\u001b[0m \u001b[38;5;28mprint\u001b[39m(input_tensor)\n\u001b[1;32m      7\u001b[0m \u001b[38;5;66;03m# NN.forward(transform_with_resize(input_tensor.unsqueeze(0).cuda()))\u001b[39;00m\n",
      "\u001b[0;31mTypeError\u001b[0m: expected Tensor as element 0 in argument 0, but got PngImageFile"
     ]
    }
   ],
   "source": [
    "set = train_set[0:10]\n",
    "imgs = set['img']\n",
    "print(imgs)\n",
    "\n",
    "input_tensor = transform_with_resize(torch.stack(imgs, dim=0))\n",
    "print(input_tensor)\n",
    "# NN.forward(transform_with_resize(input_tensor.unsqueeze(0).cuda()))"
   ]
  },
  {
   "cell_type": "code",
   "execution_count": null,
   "metadata": {},
   "outputs": [
    {
     "name": "stdout",
     "output_type": "stream",
     "text": [
      "8\n"
     ]
    }
   ],
   "source": []
  },
  {
   "cell_type": "code",
   "execution_count": 16,
   "metadata": {},
   "outputs": [],
   "source": [
    "def encode_one_image(image):\n",
    "        \n",
    "    input_tensor = transform_with_resize(image)\n",
    "\n",
    "    encoded_image = target_encoder.forward(input_tensor.unsqueeze(0).cuda())\n",
    "    \n",
    "    return encoded_image"
   ]
  },
  {
   "cell_type": "code",
   "execution_count": null,
   "metadata": {},
   "outputs": [],
   "source": [
    "def encode_batch(dataset, avgpool):\n",
    "    \n",
    "    encoded_images = []\n",
    "    \n",
    "    input_tensor = transform_with_resize(dataset)\n",
    "\n",
    "    encoded_image = target_encoder.forward(input_tensor.unsqueeze(0).cuda())\n",
    "    \n",
    "    encoded_images.append(avgpool(encoded_image))\n",
    "\n",
    "    return encoded_images\n"
   ]
  },
  {
   "cell_type": "code",
   "execution_count": null,
   "metadata": {},
   "outputs": [],
   "source": [
    "from datasets import Dataset, DatasetDict\n",
    "import numpy as np\n",
    "\n",
    "def encode_and_save_batch(set, num_batches=20, filepath='src/datasets/encoded_cifar/', dict_name='train'):\n",
    "    \n",
    "    batch_len   = len(set) / num_batches\n",
    "\n",
    "    avgpool = nn.AvgPool2d(kernel_size=4, stride=4)\n",
    "\n",
    "    for batch in range(0, num_batches):\n",
    "        indeces = (int(batch * batch_len), int((batch + 1) * batch_len))\n",
    "        img_batch = set[indeces[0] : indeces[1]]\n",
    "        labels = img_batch['label']\n",
    "        imgs = img_batch['img']\n",
    "\n",
    "        encoded_imgs = encode_batch(imgs, avgpool=avgpool)\n",
    "\n",
    "        encoded_dict  = {\n",
    "            f'{dict_name}{batch}': {\n",
    "                'img': encoded_imgs,\n",
    "                'label': labels\n",
    "            }\n",
    "        }\n",
    "\n",
    "        dataset_dict = DatasetDict({\n",
    "            f'{dict_name}': Dataset.from_dict(encoded_dict[f'{dict_name}{batch}'])\n",
    "            })\n",
    "\n",
    "        # dataset_dict.save_to_disk(f'{filepath}{dict_name}{batch}')\n",
    "        print(\"\\none batch done\\n\")"
   ]
  },
  {
   "cell_type": "code",
   "execution_count": null,
   "metadata": {},
   "outputs": [
    {
     "name": "stdout",
     "output_type": "stream",
     "text": [
      "\n",
      "one batch done\n",
      "\n"
     ]
    },
    {
     "ename": "KeyboardInterrupt",
     "evalue": "",
     "output_type": "error",
     "traceback": [
      "\u001b[0;31m---------------------------------------------------------------------------\u001b[0m",
      "\u001b[0;31mKeyboardInterrupt\u001b[0m                         Traceback (most recent call last)",
      "Cell \u001b[0;32mIn[22], line 2\u001b[0m\n\u001b[1;32m      1\u001b[0m avgpool \u001b[38;5;241m=\u001b[39m nn\u001b[38;5;241m.\u001b[39mAvgPool2d(kernel_size\u001b[38;5;241m=\u001b[39m\u001b[38;5;241m4\u001b[39m, stride\u001b[38;5;241m=\u001b[39m\u001b[38;5;241m4\u001b[39m)\n\u001b[0;32m----> 2\u001b[0m \u001b[43mencode_and_save_batch\u001b[49m\u001b[43m(\u001b[49m\u001b[43mval_set\u001b[49m\u001b[43m,\u001b[49m\u001b[43m \u001b[49m\u001b[43mavgpool\u001b[49m\u001b[43m,\u001b[49m\u001b[43m \u001b[49m\u001b[43mnum_batches\u001b[49m\u001b[38;5;241;43m=\u001b[39;49m\u001b[38;5;241;43m10\u001b[39;49m\u001b[43m,\u001b[49m\u001b[43m \u001b[49m\u001b[43mdict_name\u001b[49m\u001b[38;5;241;43m=\u001b[39;49m\u001b[38;5;124;43m'\u001b[39;49m\u001b[38;5;124;43mvalidation\u001b[39;49m\u001b[38;5;124;43m'\u001b[39;49m\u001b[43m)\u001b[49m\n",
      "Cell \u001b[0;32mIn[20], line 15\u001b[0m, in \u001b[0;36mencode_and_save_batch\u001b[0;34m(set, avgpool, num_batches, filepath, dict_name)\u001b[0m\n\u001b[1;32m     11\u001b[0m labels \u001b[38;5;241m=\u001b[39m img_batch[\u001b[38;5;124m'\u001b[39m\u001b[38;5;124mlabel\u001b[39m\u001b[38;5;124m'\u001b[39m]\n\u001b[1;32m     12\u001b[0m imgs \u001b[38;5;241m=\u001b[39m img_batch[\u001b[38;5;124m'\u001b[39m\u001b[38;5;124mimg\u001b[39m\u001b[38;5;124m'\u001b[39m]\n\u001b[0;32m---> 15\u001b[0m encoded_imgs \u001b[38;5;241m=\u001b[39m \u001b[43mencode_batch\u001b[49m\u001b[43m(\u001b[49m\u001b[43mimgs\u001b[49m\u001b[43m,\u001b[49m\u001b[43m \u001b[49m\u001b[43mavgpool\u001b[49m\u001b[38;5;241;43m=\u001b[39;49m\u001b[43mavgpool\u001b[49m\u001b[43m)\u001b[49m\n\u001b[1;32m     17\u001b[0m encoded_dict  \u001b[38;5;241m=\u001b[39m {\n\u001b[1;32m     18\u001b[0m     \u001b[38;5;124mf\u001b[39m\u001b[38;5;124m'\u001b[39m\u001b[38;5;132;01m{\u001b[39;00mdict_name\u001b[38;5;132;01m}\u001b[39;00m\u001b[38;5;132;01m{\u001b[39;00mbatch\u001b[38;5;132;01m}\u001b[39;00m\u001b[38;5;124m'\u001b[39m: {\n\u001b[1;32m     19\u001b[0m         \u001b[38;5;124m'\u001b[39m\u001b[38;5;124mimg\u001b[39m\u001b[38;5;124m'\u001b[39m: encoded_imgs,\n\u001b[1;32m     20\u001b[0m         \u001b[38;5;124m'\u001b[39m\u001b[38;5;124mlabel\u001b[39m\u001b[38;5;124m'\u001b[39m: labels\n\u001b[1;32m     21\u001b[0m     }\n\u001b[1;32m     22\u001b[0m }\n\u001b[1;32m     24\u001b[0m dataset_dict \u001b[38;5;241m=\u001b[39m DatasetDict({\n\u001b[1;32m     25\u001b[0m     \u001b[38;5;124mf\u001b[39m\u001b[38;5;124m'\u001b[39m\u001b[38;5;132;01m{\u001b[39;00mdict_name\u001b[38;5;132;01m}\u001b[39;00m\u001b[38;5;124m'\u001b[39m: Dataset\u001b[38;5;241m.\u001b[39mfrom_dict(encoded_dict[\u001b[38;5;124mf\u001b[39m\u001b[38;5;124m'\u001b[39m\u001b[38;5;132;01m{\u001b[39;00mdict_name\u001b[38;5;132;01m}\u001b[39;00m\u001b[38;5;132;01m{\u001b[39;00mbatch\u001b[38;5;132;01m}\u001b[39;00m\u001b[38;5;124m'\u001b[39m])\n\u001b[1;32m     26\u001b[0m     })\n",
      "Cell \u001b[0;32mIn[17], line 11\u001b[0m, in \u001b[0;36mencode_batch\u001b[0;34m(dataset, avgpool)\u001b[0m\n\u001b[1;32m      7\u001b[0m     curr_img \u001b[38;5;241m=\u001b[39m dataset[i]\n\u001b[1;32m      9\u001b[0m     input_tensor \u001b[38;5;241m=\u001b[39m transform_with_resize(curr_img)\n\u001b[0;32m---> 11\u001b[0m     encoded_image \u001b[38;5;241m=\u001b[39m target_encoder\u001b[38;5;241m.\u001b[39mforward(\u001b[43minput_tensor\u001b[49m\u001b[38;5;241;43m.\u001b[39;49m\u001b[43munsqueeze\u001b[49m\u001b[43m(\u001b[49m\u001b[38;5;241;43m0\u001b[39;49m\u001b[43m)\u001b[49m\u001b[38;5;241;43m.\u001b[39;49m\u001b[43mcuda\u001b[49m\u001b[43m(\u001b[49m\u001b[43m)\u001b[49m)\n\u001b[1;32m     13\u001b[0m     encoded_images\u001b[38;5;241m.\u001b[39mappend(avgpool(encoded_image))\n\u001b[1;32m     15\u001b[0m \u001b[38;5;28;01mreturn\u001b[39;00m encoded_images\n",
      "\u001b[0;31mKeyboardInterrupt\u001b[0m: "
     ]
    }
   ],
   "source": [
    "encode_and_save_batch(val_set, num_batches=10, dict_name='validation')"
   ]
  },
  {
   "cell_type": "code",
   "execution_count": null,
   "metadata": {},
   "outputs": [],
   "source": [
    "encode_and_save_batch(test_set, num_batches=10, dict_name='test')"
   ]
  },
  {
   "cell_type": "code",
   "execution_count": null,
   "metadata": {},
   "outputs": [
    {
     "name": "stderr",
     "output_type": "stream",
     "text": [
      "Saving the dataset (2/2 shards): 100%|██████████| 2000/2000 [00:00<00:00, 9759.15 examples/s]\n"
     ]
    },
    {
     "name": "stdout",
     "output_type": "stream",
     "text": [
      "\n",
      "one batch done\n",
      "\n"
     ]
    },
    {
     "name": "stderr",
     "output_type": "stream",
     "text": [
      "Saving the dataset (2/2 shards): 100%|██████████| 2000/2000 [00:00<00:00, 9654.45 examples/s]\n"
     ]
    },
    {
     "name": "stdout",
     "output_type": "stream",
     "text": [
      "\n",
      "one batch done\n",
      "\n"
     ]
    },
    {
     "name": "stderr",
     "output_type": "stream",
     "text": [
      "Saving the dataset (2/2 shards): 100%|██████████| 2000/2000 [00:00<00:00, 9560.92 examples/s]\n"
     ]
    },
    {
     "name": "stdout",
     "output_type": "stream",
     "text": [
      "\n",
      "one batch done\n",
      "\n"
     ]
    },
    {
     "name": "stderr",
     "output_type": "stream",
     "text": [
      "Saving the dataset (2/2 shards): 100%|██████████| 2000/2000 [00:00<00:00, 9595.80 examples/s]\n"
     ]
    },
    {
     "name": "stdout",
     "output_type": "stream",
     "text": [
      "\n",
      "one batch done\n",
      "\n"
     ]
    },
    {
     "name": "stderr",
     "output_type": "stream",
     "text": [
      "Saving the dataset (2/2 shards): 100%|██████████| 2000/2000 [00:00<00:00, 9310.91 examples/s]\n"
     ]
    },
    {
     "name": "stdout",
     "output_type": "stream",
     "text": [
      "\n",
      "one batch done\n",
      "\n"
     ]
    },
    {
     "name": "stderr",
     "output_type": "stream",
     "text": [
      "Saving the dataset (2/2 shards): 100%|██████████| 2000/2000 [00:00<00:00, 7785.84 examples/s]\n"
     ]
    },
    {
     "name": "stdout",
     "output_type": "stream",
     "text": [
      "\n",
      "one batch done\n",
      "\n"
     ]
    },
    {
     "name": "stderr",
     "output_type": "stream",
     "text": [
      "Saving the dataset (2/2 shards): 100%|██████████| 2000/2000 [00:00<00:00, 9230.23 examples/s]\n"
     ]
    },
    {
     "name": "stdout",
     "output_type": "stream",
     "text": [
      "\n",
      "one batch done\n",
      "\n"
     ]
    },
    {
     "name": "stderr",
     "output_type": "stream",
     "text": [
      "Saving the dataset (2/2 shards): 100%|██████████| 2000/2000 [00:00<00:00, 9391.92 examples/s]\n"
     ]
    },
    {
     "name": "stdout",
     "output_type": "stream",
     "text": [
      "\n",
      "one batch done\n",
      "\n"
     ]
    },
    {
     "name": "stderr",
     "output_type": "stream",
     "text": [
      "Saving the dataset (2/2 shards): 100%|██████████| 2000/2000 [00:00<00:00, 9279.71 examples/s]\n"
     ]
    },
    {
     "name": "stdout",
     "output_type": "stream",
     "text": [
      "\n",
      "one batch done\n",
      "\n"
     ]
    },
    {
     "name": "stderr",
     "output_type": "stream",
     "text": [
      "Saving the dataset (2/2 shards): 100%|██████████| 2000/2000 [00:00<00:00, 9187.69 examples/s]\n"
     ]
    },
    {
     "name": "stdout",
     "output_type": "stream",
     "text": [
      "\n",
      "one batch done\n",
      "\n"
     ]
    },
    {
     "name": "stderr",
     "output_type": "stream",
     "text": [
      "Saving the dataset (2/2 shards): 100%|██████████| 2000/2000 [00:00<00:00, 9538.69 examples/s]\n"
     ]
    },
    {
     "name": "stdout",
     "output_type": "stream",
     "text": [
      "\n",
      "one batch done\n",
      "\n"
     ]
    },
    {
     "name": "stderr",
     "output_type": "stream",
     "text": [
      "Saving the dataset (2/2 shards): 100%|██████████| 2000/2000 [00:00<00:00, 9558.61 examples/s]\n"
     ]
    },
    {
     "name": "stdout",
     "output_type": "stream",
     "text": [
      "\n",
      "one batch done\n",
      "\n"
     ]
    },
    {
     "name": "stderr",
     "output_type": "stream",
     "text": [
      "Saving the dataset (2/2 shards): 100%|██████████| 2000/2000 [00:00<00:00, 9702.11 examples/s]\n"
     ]
    },
    {
     "name": "stdout",
     "output_type": "stream",
     "text": [
      "\n",
      "one batch done\n",
      "\n"
     ]
    },
    {
     "name": "stderr",
     "output_type": "stream",
     "text": [
      "Saving the dataset (2/2 shards): 100%|██████████| 2000/2000 [00:00<00:00, 9608.89 examples/s]\n"
     ]
    },
    {
     "name": "stdout",
     "output_type": "stream",
     "text": [
      "\n",
      "one batch done\n",
      "\n"
     ]
    }
   ],
   "source": [
    "encode_and_save_batch(train_set, num_batches=20, dict_name='train')"
   ]
  }
 ],
 "metadata": {
  "accelerator": "GPU",
  "colab": {
   "authorship_tag": "ABX9TyNjMMpB93EWSh6NkGBINmF4",
   "gpuType": "T4",
   "machine_shape": "hm",
   "provenance": []
  },
  "kernelspec": {
   "display_name": "Python 3",
   "name": "python3"
  },
  "language_info": {
   "codemirror_mode": {
    "name": "ipython",
    "version": 3
   },
   "file_extension": ".py",
   "mimetype": "text/x-python",
   "name": "python",
   "nbconvert_exporter": "python",
   "pygments_lexer": "ipython3",
   "version": "3.10.12"
  }
 },
 "nbformat": 4,
 "nbformat_minor": 0
}
