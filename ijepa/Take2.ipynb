{
 "cells": [
  {
   "cell_type": "markdown",
   "metadata": {
    "id": "Fz_liu0Icq9n"
   },
   "source": [
    "Using sources:\n",
    "\n",
    "https://huggingface.co/blog/fine-tune-vit"
   ]
  },
  {
   "cell_type": "markdown",
   "metadata": {
    "id": "moTCRZQGWvID"
   },
   "source": [
    "## Set up drive and libraries"
   ]
  },
  {
   "cell_type": "code",
   "execution_count": 30,
   "metadata": {
    "colab": {
     "base_uri": "https://localhost:8080/"
    },
    "executionInfo": {
     "elapsed": 19669,
     "status": "ok",
     "timestamp": 1730589628131,
     "user": {
      "displayName": "THOMAS KAUFFMAN",
      "userId": "10973091953636753003"
     },
     "user_tz": 360
    },
    "id": "NkyRYtHXWH0l",
    "outputId": "4f46d3f0-b33a-436a-d610-603fcb2a7f5e"
   },
   "outputs": [],
   "source": [
    "# from google.colab import drive\n",
    "import numpy as np\n",
    "from datasets import load_dataset\n",
    "import sys\n",
    "import torch\n",
    "# import timm\n",
    "from torchvision import datasets, transforms\n",
    "import matplotlib.pyplot as plt\n",
    "from PIL import Image\n",
    "import torch.nn as nn\n",
    "from src.datasets.imagenet1k import make_imagenet1k as asdf\n",
    "from src.transforms import make_transforms\n",
    "from src import helper\n",
    "from src.models import vision_transformer\n",
    "from datasets import Dataset, DatasetDict\n",
    "import torch\n",
    "import torch.nn as nn\n",
    "import torch.optim as optim\n",
    "from torch.utils.data import DataLoader, Dataset\n"
   ]
  },
  {
   "cell_type": "markdown",
   "metadata": {
    "id": "YValhenHv5HX"
   },
   "source": [
    "Get CIFAR-10"
   ]
  },
  {
   "cell_type": "code",
   "execution_count": null,
   "metadata": {
    "colab": {
     "base_uri": "https://localhost:8080/"
    },
    "executionInfo": {
     "elapsed": 11119,
     "status": "ok",
     "timestamp": 1730589644713,
     "user": {
      "displayName": "THOMAS KAUFFMAN",
      "userId": "10973091953636753003"
     },
     "user_tz": 360
    },
    "id": "QZdLnKQYXGhR",
    "outputId": "2ebd4fb2-9e09-4f3a-eea3-5195c1823947"
   },
   "outputs": [],
   "source": [
    "cifar10 = load_dataset(\"cifar10\")\n",
    "\n",
    "train_set = cifar10['train']\n",
    "test_set = cifar10['test']"
   ]
  },
  {
   "cell_type": "code",
   "execution_count": 3,
   "metadata": {
    "colab": {
     "base_uri": "https://localhost:8080/"
    },
    "executionInfo": {
     "elapsed": 63604,
     "status": "ok",
     "timestamp": 1730589711795,
     "user": {
      "displayName": "THOMAS KAUFFMAN",
      "userId": "10973091953636753003"
     },
     "user_tz": 360
    },
    "id": "hWGBCu8q-VTM",
    "outputId": "a7f001da-4550-40fa-a9dd-7512df5cf6d5"
   },
   "outputs": [
    {
     "name": "stderr",
     "output_type": "stream",
     "text": [
      "/tmp/ipykernel_11247/1908512989.py:3: FutureWarning: You are using `torch.load` with `weights_only=False` (the current default value), which uses the default pickle module implicitly. It is possible to construct malicious pickle data which will execute arbitrary code during unpickling (See https://github.com/pytorch/pytorch/blob/main/SECURITY.md#untrusted-models for more details). In a future release, the default value for `weights_only` will be flipped to `True`. This limits the functions that could be executed during unpickling. Arbitrary objects will no longer be allowed to be loaded via this mode unless they are explicitly allowlisted by the user via `torch.serialization.add_safe_globals`. We recommend you start setting `weights_only=True` for any use case where you don't have full control of the loaded file. Please open an issue on GitHub for any issues related to this experimental feature.\n",
      "  checkpoint = torch.load(CHECKPOINT_FILE, map_location=torch.device('cpu'))\n"
     ]
    }
   ],
   "source": [
    "CHECKPOINT_FILE = './checkpoint/IN1K-vit.h.14-300e.pth.tar'\n",
    "\n",
    "checkpoint = torch.load(CHECKPOINT_FILE, map_location=torch.device('cpu'))"
   ]
  },
  {
   "cell_type": "code",
   "execution_count": null,
   "metadata": {
    "colab": {
     "base_uri": "https://localhost:8080/"
    },
    "executionInfo": {
     "elapsed": 7,
     "status": "ok",
     "timestamp": 1730589711795,
     "user": {
      "displayName": "THOMAS KAUFFMAN",
      "userId": "10973091953636753003"
     },
     "user_tz": 360
    },
    "id": "D4h0HI1OR6Jn",
    "outputId": "4ef5f57b-25cb-4361-bd58-88c2ce5d2c3e"
   },
   "outputs": [
    {
     "data": {
      "text/plain": [
       "9"
      ]
     },
     "execution_count": 4,
     "metadata": {},
     "output_type": "execute_result"
    }
   ],
   "source": [
    "\n",
    "target_encoder_weights = checkpoint['target_encoder']\n",
    "del checkpoint\n",
    "import gc\n",
    "gc.collect()\n"
   ]
  },
  {
   "cell_type": "code",
   "execution_count": 5,
   "metadata": {
    "colab": {
     "base_uri": "https://localhost:8080/"
    },
    "id": "TqNfhJPAB83y",
    "outputId": "3f2b93e5-62ac-4fd8-a0f2-9f8c5e66099d"
   },
   "outputs": [
    {
     "name": "stdout",
     "output_type": "stream",
     "text": [
      "INFO:root:VisionTransformer(\n",
      "  (patch_embed): PatchEmbed(\n",
      "    (proj): Conv2d(3, 1280, kernel_size=(14, 14), stride=(14, 14))\n",
      "  )\n",
      "  (blocks): ModuleList(\n",
      "    (0-31): 32 x Block(\n",
      "      (norm1): LayerNorm((1280,), eps=1e-06, elementwise_affine=True)\n",
      "      (attn): Attention(\n",
      "        (qkv): Linear(in_features=1280, out_features=3840, bias=True)\n",
      "        (attn_drop): Dropout(p=0.0, inplace=False)\n",
      "        (proj): Linear(in_features=1280, out_features=1280, bias=True)\n",
      "        (proj_drop): Dropout(p=0.0, inplace=False)\n",
      "      )\n",
      "      (drop_path): Identity()\n",
      "      (norm2): LayerNorm((1280,), eps=1e-06, elementwise_affine=True)\n",
      "      (mlp): MLP(\n",
      "        (fc1): Linear(in_features=1280, out_features=5120, bias=True)\n",
      "        (act): GELU(approximate='none')\n",
      "        (fc2): Linear(in_features=5120, out_features=1280, bias=True)\n",
      "        (drop): Dropout(p=0.0, inplace=False)\n",
      "      )\n",
      "    )\n",
      "  )\n",
      "  (norm): LayerNorm((1280,), eps=1e-06, elementwise_affine=True)\n",
      ")\n"
     ]
    }
   ],
   "source": [
    "import copy\n",
    "d = torch.device('cuda:0')\n",
    "torch.cuda.set_device(d)\n",
    "encoder, predictor = helper.init_model(\n",
    "    device = d,\n",
    "    patch_size=14,\n",
    "    crop_size=224,\n",
    "    pred_depth=12,\n",
    "    pred_emb_dim=384,\n",
    "    model_name='vit_huge')\n",
    "target_encoder = copy.deepcopy(encoder)"
   ]
  },
  {
   "cell_type": "code",
   "execution_count": 6,
   "metadata": {},
   "outputs": [],
   "source": [
    "target_encoder_weights = {k.replace('module.', ''): v for k, v in target_encoder_weights.items()}\n",
    "target_encoder.eval()\n",
    "for p in target_encoder.parameters():\n",
    "    p.requires_grad = False\n",
    "\n",
    "msg = target_encoder.load_state_dict(target_encoder_weights)"
   ]
  },
  {
   "cell_type": "code",
   "execution_count": 15,
   "metadata": {},
   "outputs": [
    {
     "name": "stdout",
     "output_type": "stream",
     "text": [
      "INFO:root:making imagenet data transforms\n"
     ]
    }
   ],
   "source": [
    "transform = make_transforms(\n",
    "    crop_size=224,\n",
    "    crop_scale=[0.3, 1.0],\n",
    "    gaussian_blur=False,\n",
    "    horizontal_flip=False,\n",
    "    color_distortion=False,\n",
    "    color_jitter=0.0)\n",
    "\n",
    "transform_with_resize = transforms.Compose([\n",
    "  transforms.Resize((224, 224)),\n",
    "  transform\n",
    "  ])"
   ]
  },
  {
   "cell_type": "code",
   "execution_count": 16,
   "metadata": {},
   "outputs": [],
   "source": [
    "class EncodeClassifyNet(nn.Module):\n",
    "    def __init__(self, target_encoder):\n",
    "        super().__init__()\n",
    "\n",
    "        self.model = nn.Sequential(\n",
    "            target_encoder,\n",
    "            nn.AvgPool2d(kernel_size=4, stride=4),\n",
    "            nn.Flatten(),\n",
    "            nn.Linear(320 * 64, 10)\n",
    "        )\n",
    "\n",
    "    def forward(self, x):\n",
    "        return self.model(x)"
   ]
  },
  {
   "cell_type": "code",
   "execution_count": 28,
   "metadata": {},
   "outputs": [],
   "source": [
    "NN = EncodeClassifyNet(target_encoder)\n",
    "\n",
    "device = torch.device('cuda' if torch.cuda.is_available() else 'cpu')\n",
    "\n",
    "NN = NN.to(device)\n",
    "\n"
   ]
  },
  {
   "cell_type": "markdown",
   "metadata": {},
   "source": [
    "## Below is mostly from ChatGPT. Should probably rewrite it"
   ]
  },
  {
   "cell_type": "code",
   "execution_count": 29,
   "metadata": {},
   "outputs": [],
   "source": [
    "def evaluate_model(model, data_loader):\n",
    "    model.eval()  # Set model to evaluation mode\n",
    "    correct = 0\n",
    "    total = 0\n",
    "\n",
    "    with torch.no_grad():  # Disable gradient computation for evaluation\n",
    "        for images, labels in data_loader:\n",
    "            images, labels = images.cuda(), labels.cuda()\n",
    "\n",
    "            # Forward pass\n",
    "            outputs = model.forward(images)\n",
    "            \n",
    "            # Get predicted labels\n",
    "            _, predicted = torch.max(outputs, 1)\n",
    "\n",
    "            # Update totals\n",
    "            total += labels.size(0)\n",
    "            correct += (predicted == labels).sum().item()\n",
    "\n",
    "    accuracy = 100 * correct / total\n",
    "    return accuracy\n"
   ]
  },
  {
   "cell_type": "code",
   "execution_count": null,
   "metadata": {},
   "outputs": [],
   "source": [
    "# Example dataset wrapping (assuming train_set has an appropriate structure)\n",
    "class CustomDataset(Dataset):\n",
    "    def __init__(self, dataset, transform):\n",
    "        self.dataset = dataset\n",
    "        self.transform = transform\n",
    "\n",
    "    def __len__(self):\n",
    "        return len(self.dataset)\n",
    "\n",
    "    def __getitem__(self, idx):\n",
    "        item = self.dataset[idx]\n",
    "        img = self.transform(item['img'])\n",
    "        label = item['label']\n",
    "        return img, label"
   ]
  },
  {
   "cell_type": "code",
   "execution_count": 31,
   "metadata": {},
   "outputs": [
    {
     "name": "stdout",
     "output_type": "stream",
     "text": [
      "Test Accuracy: 8.35%\n"
     ]
    }
   ],
   "source": [
    "test_dataset = CustomDataset(test_set, transform=transform)  # Assuming transform is defined\n",
    "test_loader = DataLoader(test_dataset, batch_size=32, shuffle=True)\n",
    "\n",
    "test_accuracy = evaluate_model(NN, test_loader)\n",
    "print(f\"Test Accuracy: {test_accuracy:.2f}%\")\n"
   ]
  },
  {
   "cell_type": "code",
   "execution_count": null,
   "metadata": {},
   "outputs": [
    {
     "name": "stdout",
     "output_type": "stream",
     "text": [
      "Epoch [1/1], Step [10/1094], Loss: 2.5746\n",
      "Epoch [1/1], Step [20/1094], Loss: 1.5566\n",
      "Epoch [1/1], Step [30/1094], Loss: 0.9655\n",
      "Epoch [1/1], Step [40/1094], Loss: 0.9511\n",
      "Epoch [1/1], Step [50/1094], Loss: 1.1058\n",
      "Epoch [1/1], Step [60/1094], Loss: 0.6162\n",
      "Epoch [1/1], Step [70/1094], Loss: 1.0499\n",
      "Epoch [1/1], Step [80/1094], Loss: 0.6860\n",
      "Epoch [1/1], Step [90/1094], Loss: 0.6967\n",
      "Epoch [1/1], Step [100/1094], Loss: 1.1554\n",
      "Epoch [1/1], Step [110/1094], Loss: 0.4802\n",
      "Epoch [1/1], Step [120/1094], Loss: 0.9401\n",
      "Epoch [1/1], Step [130/1094], Loss: 0.8504\n",
      "Epoch [1/1], Step [140/1094], Loss: 0.6854\n",
      "Epoch [1/1], Step [150/1094], Loss: 1.2742\n",
      "Epoch [1/1], Step [160/1094], Loss: 0.5814\n",
      "Epoch [1/1], Step [170/1094], Loss: 0.7537\n",
      "Epoch [1/1], Step [180/1094], Loss: 0.8328\n",
      "Epoch [1/1], Step [190/1094], Loss: 0.8534\n",
      "Epoch [1/1], Step [200/1094], Loss: 0.9405\n",
      "Epoch [1/1], Step [210/1094], Loss: 0.9304\n",
      "Epoch [1/1], Step [220/1094], Loss: 1.1394\n",
      "Epoch [1/1], Step [230/1094], Loss: 0.4194\n",
      "Epoch [1/1], Step [240/1094], Loss: 0.2739\n",
      "Epoch [1/1], Step [250/1094], Loss: 0.2681\n",
      "Epoch [1/1], Step [260/1094], Loss: 0.9295\n",
      "Epoch [1/1], Step [270/1094], Loss: 1.2629\n",
      "Epoch [1/1], Step [280/1094], Loss: 0.4909\n",
      "Epoch [1/1], Step [290/1094], Loss: 0.5779\n",
      "Epoch [1/1], Step [300/1094], Loss: 0.6097\n",
      "Epoch [1/1], Step [310/1094], Loss: 0.9458\n",
      "Epoch [1/1], Step [320/1094], Loss: 0.3171\n",
      "Epoch [1/1], Step [330/1094], Loss: 0.7620\n",
      "Epoch [1/1], Step [340/1094], Loss: 0.5681\n",
      "Epoch [1/1], Step [350/1094], Loss: 0.1673\n",
      "Epoch [1/1], Step [360/1094], Loss: 1.0441\n",
      "Epoch [1/1], Step [370/1094], Loss: 0.4125\n",
      "Epoch [1/1], Step [380/1094], Loss: 1.4995\n",
      "Epoch [1/1], Step [390/1094], Loss: 0.9786\n",
      "Epoch [1/1], Step [400/1094], Loss: 0.4892\n",
      "Epoch [1/1], Step [410/1094], Loss: 1.2148\n",
      "Epoch [1/1], Step [420/1094], Loss: 1.0135\n",
      "Epoch [1/1], Step [430/1094], Loss: 1.3036\n",
      "Epoch [1/1], Step [440/1094], Loss: 0.7775\n",
      "Epoch [1/1], Step [450/1094], Loss: 2.1966\n",
      "Epoch [1/1], Step [460/1094], Loss: 1.1080\n",
      "Epoch [1/1], Step [470/1094], Loss: 0.8229\n",
      "Epoch [1/1], Step [480/1094], Loss: 0.7779\n",
      "Epoch [1/1], Step [490/1094], Loss: 0.9178\n",
      "Epoch [1/1], Step [500/1094], Loss: 0.3349\n",
      "Epoch [1/1], Step [510/1094], Loss: 0.3611\n",
      "Epoch [1/1], Step [520/1094], Loss: 1.0205\n",
      "Epoch [1/1], Step [530/1094], Loss: 0.8217\n",
      "Epoch [1/1], Step [540/1094], Loss: 1.1288\n",
      "Epoch [1/1], Step [550/1094], Loss: 0.1503\n",
      "Epoch [1/1], Step [560/1094], Loss: 1.8005\n",
      "Epoch [1/1], Step [570/1094], Loss: 0.5164\n",
      "Epoch [1/1], Step [580/1094], Loss: 0.5744\n",
      "Epoch [1/1], Step [590/1094], Loss: 0.3455\n",
      "Epoch [1/1], Step [600/1094], Loss: 1.2426\n",
      "Epoch [1/1], Step [610/1094], Loss: 1.0733\n",
      "Epoch [1/1], Step [620/1094], Loss: 1.1775\n",
      "Epoch [1/1], Step [630/1094], Loss: 0.9553\n",
      "Epoch [1/1], Step [640/1094], Loss: 1.2269\n",
      "Epoch [1/1], Step [650/1094], Loss: 0.9035\n",
      "Epoch [1/1], Step [660/1094], Loss: 0.8278\n",
      "Epoch [1/1], Step [670/1094], Loss: 1.0270\n",
      "Epoch [1/1], Step [680/1094], Loss: 0.5265\n",
      "Epoch [1/1], Step [690/1094], Loss: 0.5461\n",
      "Epoch [1/1], Step [700/1094], Loss: 0.6619\n",
      "Epoch [1/1], Step [710/1094], Loss: 1.1085\n",
      "Epoch [1/1], Step [720/1094], Loss: 0.7769\n",
      "Epoch [1/1], Step [730/1094], Loss: 0.5260\n",
      "Epoch [1/1], Step [740/1094], Loss: 0.9271\n",
      "Epoch [1/1], Step [750/1094], Loss: 0.9627\n",
      "Epoch [1/1], Step [760/1094], Loss: 1.1951\n",
      "Epoch [1/1], Step [770/1094], Loss: 0.6213\n",
      "Epoch [1/1], Step [780/1094], Loss: 0.7466\n",
      "Epoch [1/1], Step [790/1094], Loss: 1.4982\n",
      "Epoch [1/1], Step [800/1094], Loss: 1.1369\n",
      "Epoch [1/1], Step [810/1094], Loss: 0.3108\n",
      "Epoch [1/1], Step [820/1094], Loss: 0.7300\n",
      "Epoch [1/1], Step [830/1094], Loss: 0.5921\n",
      "Epoch [1/1], Step [840/1094], Loss: 0.6094\n",
      "Epoch [1/1], Step [850/1094], Loss: 0.6368\n",
      "Epoch [1/1], Step [860/1094], Loss: 0.3047\n",
      "Epoch [1/1], Step [870/1094], Loss: 1.2053\n",
      "Epoch [1/1], Step [880/1094], Loss: 0.4599\n",
      "Epoch [1/1], Step [890/1094], Loss: 0.7683\n",
      "Epoch [1/1], Step [900/1094], Loss: 0.3506\n",
      "Epoch [1/1], Step [910/1094], Loss: 0.6910\n",
      "Epoch [1/1], Step [920/1094], Loss: 0.7379\n",
      "Epoch [1/1], Step [930/1094], Loss: 0.9893\n",
      "Epoch [1/1], Step [940/1094], Loss: 0.5245\n",
      "Epoch [1/1], Step [950/1094], Loss: 0.6818\n",
      "Epoch [1/1], Step [960/1094], Loss: 1.1942\n",
      "Epoch [1/1], Step [970/1094], Loss: 0.4740\n",
      "Epoch [1/1], Step [980/1094], Loss: 1.3990\n",
      "Epoch [1/1], Step [990/1094], Loss: 0.8495\n",
      "Epoch [1/1], Step [1000/1094], Loss: 0.8691\n",
      "Epoch [1/1], Step [1010/1094], Loss: 0.6378\n",
      "Epoch [1/1], Step [1020/1094], Loss: 1.9746\n",
      "Epoch [1/1], Step [1030/1094], Loss: 1.0298\n",
      "Epoch [1/1], Step [1040/1094], Loss: 0.3611\n",
      "Epoch [1/1], Step [1050/1094], Loss: 0.4059\n",
      "Epoch [1/1], Step [1060/1094], Loss: 0.9044\n",
      "Epoch [1/1], Step [1070/1094], Loss: 0.3619\n",
      "Epoch [1/1], Step [1080/1094], Loss: 0.9663\n",
      "Epoch [1/1], Step [1090/1094], Loss: 0.2965\n",
      "Epoch [1/1] completed with average loss: 0.8353\n",
      "Training complete!\n"
     ]
    }
   ],
   "source": [
    "# Define parameters\n",
    "num_epochs = 1\n",
    "batch_size = 32\n",
    "learning_rate = 0.001\n",
    "\n",
    "# Wrap your dataset and use DataLoader for batching\n",
    "train_dataset = CustomDataset(train_set, transform=transform)  # Assuming transform is defined\n",
    "train_loader = DataLoader(train_dataset, batch_size=batch_size, shuffle=True)\n",
    "\n",
    "# Define model, loss function, and optimizer\n",
    "model = NN.cuda()\n",
    "criterion = nn.CrossEntropyLoss()\n",
    "optimizer = optim.Adam(model.parameters(), lr=learning_rate)\n",
    "\n",
    "\n",
    "test_dataset = CustomDataset(test_set, transform=transform)  # Assuming transform is defined\n",
    "test_loader = DataLoader(test_dataset, batch_size=batch_size, shuffle=True)\n",
    "\n",
    "test_accuracy = evaluate_model(model, test_loader)\n",
    "print(f\"Test Accuracy: {test_accuracy:.2f}%\")\n",
    "\n",
    "# Training loop\n",
    "for epoch in range(num_epochs):\n",
    "    model.train()  # Set model to training mode\n",
    "    epoch_loss = 0.0\n",
    "\n",
    "    for batch_idx, (images, labels) in enumerate(train_loader):\n",
    "        # Move data to GPU\n",
    "        images, labels = images.cuda(), labels.cuda()\n",
    "\n",
    "        # Forward pass\n",
    "        outputs = model.forward(images)\n",
    "\n",
    "        # Compute loss\n",
    "        loss = criterion(outputs, labels)\n",
    "\n",
    "        # Backward pass and optimization\n",
    "        optimizer.zero_grad()\n",
    "        loss.backward()\n",
    "        optimizer.step()\n",
    "\n",
    "        # Accumulate epoch loss\n",
    "        epoch_loss += loss.item()\n",
    "\n",
    "        # Print progress\n",
    "        if (batch_idx + 1) % 10 == 0:\n",
    "            print(f\"Epoch [{epoch+1}/{num_epochs}], Step [{batch_idx+1}/{len(train_loader)}], Loss: {loss.item():.4f}\")\n",
    "\n",
    "    print(f\"Epoch [{epoch+1}/{num_epochs}] completed with average loss: {epoch_loss / len(train_loader):.4f}\")\n",
    "\n",
    "print(\"Training complete!\")\n"
   ]
  },
  {
   "cell_type": "code",
   "execution_count": 26,
   "metadata": {},
   "outputs": [
    {
     "name": "stdout",
     "output_type": "stream",
     "text": [
      "Test Accuracy: 81.50%\n"
     ]
    }
   ],
   "source": [
    "test_dataset = CustomDataset(test_set, transform=transform)  # Assuming transform is defined\n",
    "test_loader = DataLoader(test_dataset, batch_size=batch_size, shuffle=True)\n",
    "\n",
    "test_accuracy = evaluate_model(model, test_loader)\n",
    "print(f\"Test Accuracy: {test_accuracy:.2f}%\")\n"
   ]
  }
 ],
 "metadata": {
  "accelerator": "GPU",
  "colab": {
   "authorship_tag": "ABX9TyNjMMpB93EWSh6NkGBINmF4",
   "gpuType": "T4",
   "machine_shape": "hm",
   "provenance": []
  },
  "kernelspec": {
   "display_name": "Python 3",
   "name": "python3"
  },
  "language_info": {
   "codemirror_mode": {
    "name": "ipython",
    "version": 3
   },
   "file_extension": ".py",
   "mimetype": "text/x-python",
   "name": "python",
   "nbconvert_exporter": "python",
   "pygments_lexer": "ipython3",
   "version": "3.10.12"
  }
 },
 "nbformat": 4,
 "nbformat_minor": 0
}
