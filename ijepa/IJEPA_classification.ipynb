{
 "cells": [
  {
   "cell_type": "code",
   "execution_count": 1,
   "metadata": {},
   "outputs": [],
   "source": [
    "# https://www.digitalocean.com/community/tutorials/training-validation-and-accuracy-in-pytorch"
   ]
  },
  {
   "cell_type": "markdown",
   "metadata": {
    "id": "moTCRZQGWvID"
   },
   "source": [
    "## Setup"
   ]
  },
  {
   "cell_type": "code",
   "execution_count": null,
   "metadata": {
    "colab": {
     "base_uri": "https://localhost:8080/"
    },
    "executionInfo": {
     "elapsed": 19669,
     "status": "ok",
     "timestamp": 1730589628131,
     "user": {
      "displayName": "THOMAS KAUFFMAN",
      "userId": "10973091953636753003"
     },
     "user_tz": 360
    },
    "id": "NkyRYtHXWH0l",
    "outputId": "4f46d3f0-b33a-436a-d610-603fcb2a7f5e"
   },
   "outputs": [
    {
     "name": "stderr",
     "output_type": "stream",
     "text": [
      "/home/tomtom/.local/lib/python3.10/site-packages/tqdm/auto.py:21: TqdmWarning: IProgress not found. Please update jupyter and ipywidgets. See https://ipywidgets.readthedocs.io/en/stable/user_install.html\n",
      "  from .autonotebook import tqdm as notebook_tqdm\n"
     ]
    }
   ],
   "source": [
    "import numpy as np\n",
    "from datasets import load_dataset\n",
    "import sys\n",
    "import torch\n",
    "\n",
    "from PIL import Image\n",
    "import torch.nn as nn\n",
    "from src.datasets.imagenet1k import make_imagenet1k as asdf\n",
    "from src import helper\n",
    "from src.models import vision_transformer\n",
    "from datasets import Dataset, DatasetDict\n",
    "import torch\n",
    "import torch.nn as nn\n",
    "import torch.optim as optim\n",
    "from torch.utils.data import DataLoader, Dataset\n",
    "from src.transforms import make_transforms\n",
    "from torchvision import datasets, transforms\n",
    "from torch.utils.data import random_split\n",
    "\n",
    "%load_ext autoreload\n",
    "%autoreload 2"
   ]
  },
  {
   "cell_type": "markdown",
   "metadata": {},
   "source": [
    "## Load in target encoder"
   ]
  },
  {
   "cell_type": "code",
   "execution_count": 3,
   "metadata": {
    "colab": {
     "base_uri": "https://localhost:8080/"
    },
    "executionInfo": {
     "elapsed": 7,
     "status": "ok",
     "timestamp": 1730589711795,
     "user": {
      "displayName": "THOMAS KAUFFMAN",
      "userId": "10973091953636753003"
     },
     "user_tz": 360
    },
    "id": "D4h0HI1OR6Jn",
    "outputId": "4ef5f57b-25cb-4361-bd58-88c2ce5d2c3e"
   },
   "outputs": [
    {
     "name": "stderr",
     "output_type": "stream",
     "text": [
      "/tmp/ipykernel_17447/1272978648.py:2: FutureWarning: You are using `torch.load` with `weights_only=False` (the current default value), which uses the default pickle module implicitly. It is possible to construct malicious pickle data which will execute arbitrary code during unpickling (See https://github.com/pytorch/pytorch/blob/main/SECURITY.md#untrusted-models for more details). In a future release, the default value for `weights_only` will be flipped to `True`. This limits the functions that could be executed during unpickling. Arbitrary objects will no longer be allowed to be loaded via this mode unless they are explicitly allowlisted by the user via `torch.serialization.add_safe_globals`. We recommend you start setting `weights_only=True` for any use case where you don't have full control of the loaded file. Please open an issue on GitHub for any issues related to this experimental feature.\n",
      "  checkpoint = torch.load(CHECKPOINT_FILE, map_location=torch.device('cpu'))\n"
     ]
    },
    {
     "data": {
      "text/plain": [
       "9"
      ]
     },
     "execution_count": 3,
     "metadata": {},
     "output_type": "execute_result"
    }
   ],
   "source": [
    "CHECKPOINT_FILE = './checkpoint/IN1K-vit.h.14-300e.pth.tar'\n",
    "checkpoint = torch.load(CHECKPOINT_FILE, map_location=torch.device('cpu'))\n",
    "target_encoder_weights = checkpoint['target_encoder']\n",
    "del checkpoint\n",
    "import gc\n",
    "gc.collect()\n"
   ]
  },
  {
   "cell_type": "markdown",
   "metadata": {},
   "source": [
    "## Copying what Assran et. al did in their code, and just setting up the model to not require gradient calculations"
   ]
  },
  {
   "cell_type": "code",
   "execution_count": 4,
   "metadata": {
    "colab": {
     "base_uri": "https://localhost:8080/"
    },
    "id": "TqNfhJPAB83y",
    "outputId": "3f2b93e5-62ac-4fd8-a0f2-9f8c5e66099d"
   },
   "outputs": [
    {
     "name": "stdout",
     "output_type": "stream",
     "text": [
      "INFO:root:VisionTransformer(\n",
      "  (patch_embed): PatchEmbed(\n",
      "    (proj): Conv2d(3, 1280, kernel_size=(14, 14), stride=(14, 14))\n",
      "  )\n",
      "  (blocks): ModuleList(\n",
      "    (0-31): 32 x Block(\n",
      "      (norm1): LayerNorm((1280,), eps=1e-06, elementwise_affine=True)\n",
      "      (attn): Attention(\n",
      "        (qkv): Linear(in_features=1280, out_features=3840, bias=True)\n",
      "        (attn_drop): Dropout(p=0.0, inplace=False)\n",
      "        (proj): Linear(in_features=1280, out_features=1280, bias=True)\n",
      "        (proj_drop): Dropout(p=0.0, inplace=False)\n",
      "      )\n",
      "      (drop_path): Identity()\n",
      "      (norm2): LayerNorm((1280,), eps=1e-06, elementwise_affine=True)\n",
      "      (mlp): MLP(\n",
      "        (fc1): Linear(in_features=1280, out_features=5120, bias=True)\n",
      "        (act): GELU(approximate='none')\n",
      "        (fc2): Linear(in_features=5120, out_features=1280, bias=True)\n",
      "        (drop): Dropout(p=0.0, inplace=False)\n",
      "      )\n",
      "    )\n",
      "  )\n",
      "  (norm): LayerNorm((1280,), eps=1e-06, elementwise_affine=True)\n",
      ")\n"
     ]
    }
   ],
   "source": [
    "import copy\n",
    "d = torch.device('cuda:0')\n",
    "torch.cuda.set_device(d)\n",
    "\n",
    "encoder, predictor = helper.init_model(\n",
    "    device = d,\n",
    "    patch_size=14,\n",
    "    crop_size=224,\n",
    "    pred_depth=12,\n",
    "    pred_emb_dim=384,\n",
    "    model_name='vit_huge')\n",
    "\n",
    "target_encoder = copy.deepcopy(encoder)\n",
    "\n",
    "target_encoder_weights = {k.replace('module.', ''): v for k, v in target_encoder_weights.items()}\n",
    "\n",
    "target_encoder.eval()\n",
    "\n",
    "# Just want to train the linear classifier part.\n",
    "for p in target_encoder.parameters():\n",
    "    p.requires_grad = False\n",
    "\n",
    "msg = target_encoder.load_state_dict(target_encoder_weights)"
   ]
  },
  {
   "cell_type": "markdown",
   "metadata": {},
   "source": [
    "## Encode Classify Net is the target encoder from IJEPA with one hidden fully connected layer and the output layer. Very simple!"
   ]
  },
  {
   "cell_type": "code",
   "execution_count": 5,
   "metadata": {},
   "outputs": [],
   "source": [
    "from my_code.NN import EncodeClassifyNet\n",
    "\n",
    "NN = EncodeClassifyNet(target_encoder)\n",
    "NN = NN.to(d)"
   ]
  },
  {
   "cell_type": "markdown",
   "metadata": {},
   "source": [
    "## Make train, val, and test"
   ]
  },
  {
   "cell_type": "code",
   "execution_count": 6,
   "metadata": {},
   "outputs": [
    {
     "name": "stdout",
     "output_type": "stream",
     "text": [
      "Length of train: 45000, Length of val: 5000, Length of Test: 10000\n"
     ]
    }
   ],
   "source": [
    "cifar10 = load_dataset(\"cifar10\")\n",
    "\n",
    "full_train_set = cifar10['train']\n",
    "\n",
    "train_size = int(0.9 * len(full_train_set))\n",
    "val_size   = len(full_train_set) - train_size\n",
    "\n",
    "train_set, val_set = random_split(full_train_set, [train_size, val_size])\n",
    "\n",
    "val_set, _ = random_split(val_set, [train_size, len(val_set) - train_size])\n",
    "\n",
    "test_set = cifar10['test']\n",
    "\n",
    "\n",
    "TRAIN_BATCH_SIZE = 45\n",
    "EVAL_BATCH_SIZE  = 50\n",
    "\n",
    "print(f\"Length of train: {len(train_set)}, Length of val: {len(val_set)}, Length of Test: {len(test_set)}\")"
   ]
  },
  {
   "cell_type": "markdown",
   "metadata": {},
   "source": [
    "### More copying of Assran et al. Just resizing and cropping, no other data augmentations"
   ]
  },
  {
   "cell_type": "code",
   "execution_count": 7,
   "metadata": {},
   "outputs": [
    {
     "name": "stdout",
     "output_type": "stream",
     "text": [
      "INFO:root:making imagenet data transforms\n"
     ]
    }
   ],
   "source": [
    "from my_code.data_loader import Transformed_Cifar\n",
    "\n",
    "transform = make_transforms(\n",
    "crop_size=224,\n",
    "crop_scale=[0.3, 1.0],\n",
    "gaussian_blur=False,\n",
    "horizontal_flip=False,\n",
    "color_distortion=False,\n",
    "color_jitter=0.0)\n",
    "\n",
    "transform_with_resize = transforms.Compose([\n",
    "    transforms.Resize((224, 224)),\n",
    "    transform\n",
    "])"
   ]
  },
  {
   "cell_type": "code",
   "execution_count": 8,
   "metadata": {},
   "outputs": [],
   "source": [
    "transformed_train = Transformed_Cifar(train_set, transform_with_resize)\n",
    "transformed_test  = Transformed_Cifar(test_set, transform_with_resize)\n",
    "transformed_val   = Transformed_Cifar(val_set, transform_with_resize)"
   ]
  },
  {
   "cell_type": "markdown",
   "metadata": {},
   "source": [
    "## Using some ideas from assignment 5 'GANs-PyTorch.ipynb' and pytorch tutorial from TAs"
   ]
  },
  {
   "cell_type": "code",
   "execution_count": 9,
   "metadata": {},
   "outputs": [],
   "source": [
    "def accuracy(model, loader, dataset_len):\n",
    "    model.eval()\n",
    "    num_correct = 0\n",
    "    with torch.no_grad():\n",
    "        for imgs, labels in loader:\n",
    "            imgs, labels = imgs.to('cuda'), labels.to('cuda')\n",
    "            predictions = torch.argmax(model(imgs), dim=1)\n",
    "            num_correct += torch.sum(predictions == labels)\n",
    "\n",
    "    return (num_correct / dataset_len).item()"
   ]
  },
  {
   "cell_type": "code",
   "execution_count": 10,
   "metadata": {},
   "outputs": [],
   "source": [
    "def training_loop(model, train_loader, val_loader, optimizer, loss_function, num_epochs=1):\n",
    "    model.train()\n",
    "    losses = []\n",
    "    iter = 0\n",
    "    for epoch in range(0, num_epochs):\n",
    "        for imgs, labels in train_loader:\n",
    "            \n",
    "            imgs, labels = imgs.to('cuda'), labels.to('cuda')\n",
    "\n",
    "            forward = model(imgs)\n",
    "\n",
    "            loss = loss_function(forward, labels)\n",
    "            losses.append(loss.item())\n",
    "            \n",
    "            loss.backward()\n",
    "\n",
    "            optimizer.step()\n",
    "            optimizer.zero_grad()\n",
    "\n",
    "            iter += 1\n",
    "            if iter % 100 == 0:\n",
    "                print(f\"Step {iter}, \\tTraining Loss: {loss.item()}, \\tValidation Accuracy: {accuracy(model, val_loader, int(0.1 * len(full_train_set)))}\" )\n",
    "            \n",
    "    return losses\n"
   ]
  },
  {
   "cell_type": "markdown",
   "metadata": {},
   "source": [
    "# Training the model for 1 epoch only"
   ]
  },
  {
   "cell_type": "code",
   "execution_count": 11,
   "metadata": {},
   "outputs": [
    {
     "name": "stdout",
     "output_type": "stream",
     "text": [
      "Step 100, \tTraining Loss: 0.711243212223053, \tValidation Accuracy: 0.7978000044822693\n",
      "Step 200, \tTraining Loss: 0.5793476104736328, \tValidation Accuracy: 0.8181999921798706\n",
      "Step 300, \tTraining Loss: 0.49884364008903503, \tValidation Accuracy: 0.8294000029563904\n",
      "Step 400, \tTraining Loss: 0.5242096185684204, \tValidation Accuracy: 0.8389999866485596\n",
      "Step 500, \tTraining Loss: 0.3881070911884308, \tValidation Accuracy: 0.8459999561309814\n",
      "Step 600, \tTraining Loss: 0.4977837800979614, \tValidation Accuracy: 0.8499999642372131\n",
      "Step 700, \tTraining Loss: 0.5465694665908813, \tValidation Accuracy: 0.8511999845504761\n",
      "Step 800, \tTraining Loss: 0.44094976782798767, \tValidation Accuracy: 0.8673999905586243\n",
      "Step 900, \tTraining Loss: 0.4223916232585907, \tValidation Accuracy: 0.8503999710083008\n",
      "Step 1000, \tTraining Loss: 0.44921737909317017, \tValidation Accuracy: 0.8603999614715576\n"
     ]
    }
   ],
   "source": [
    "loss_fn = nn.CrossEntropyLoss()\n",
    "\n",
    "training_loader = DataLoader(transformed_train, batch_size=TRAIN_BATCH_SIZE, shuffle=True)\n",
    "\n",
    "from my_code.NN import EncodeLNClassify\n",
    "\n",
    "NN = EncodeLNClassify(target_encoder)\n",
    "NN = NN.to(d)\n",
    "optimizer = optim.Adam(NN.parameters(), lr=0.00005)\n",
    "\n",
    "\n",
    "val = DataLoader(transformed_val, batch_size=EVAL_BATCH_SIZE, shuffle=False)\n",
    "test = DataLoader(transformed_test, batch_size=EVAL_BATCH_SIZE, shuffle=False)\n",
    "\n",
    "losses = training_loop(NN, training_loader, val, optimizer=optimizer, loss_function=loss_fn, num_epochs=1)"
   ]
  },
  {
   "cell_type": "code",
   "execution_count": null,
   "metadata": {},
   "outputs": [],
   "source": [
    "import numpy as np\n",
    "np.save('./loss.npy', losses)"
   ]
  },
  {
   "cell_type": "code",
   "execution_count": 8,
   "metadata": {},
   "outputs": [
    {
     "data": {
      "image/png": "[encoded data removed]",
      "text/plain": [
       "<Figure size 640x480 with 1 Axes>"
      ]
     },
     "metadata": {},
     "output_type": "display_data"
    }
   ],
   "source": [
    "import matplotlib.pyplot as plt\n",
    "import numpy as np\n",
    "losses = np.load('./loss.npy')\n",
    "plt.figure()\n",
    "plt.title(\"Loss over time\")\n",
    "plt.ylabel(\"Loss\")\n",
    "plt.xlabel(\"Iterations\")\n",
    "plt.plot(losses)\n",
    "plt.savefig('./loss_curve.png')"
   ]
  },
  {
   "cell_type": "code",
   "execution_count": 13,
   "metadata": {},
   "outputs": [
    {
     "name": "stdout",
     "output_type": "stream",
     "text": [
      "Test accuracy after one epoch:  0.8574000000953674\n"
     ]
    }
   ],
   "source": [
    "print(\"Test accuracy after one epoch: \", accuracy(NN, test, len(transformed_test)))"
   ]
  },
  {
   "cell_type": "code",
   "execution_count": 10,
   "metadata": {},
   "outputs": [
    {
     "data": {
      "image/png": "[encoded data removed]",
      "text/plain": [
       "<Figure size 640x480 with 1 Axes>"
      ]
     },
     "metadata": {},
     "output_type": "display_data"
    }
   ],
   "source": [
    "steps = [100, 200, 300, 400, 500, 600, 700, 800, 900, 1000]\n",
    "\n",
    "IJEPA_acc = [0.7978, 0.8182, 0.8294, 0.8390, 0.8460, 0.8500, 0.8512, 0.8674, 0.8504, 0.8604]\n",
    "\n",
    "vit_acc = [0.9054, 0.9394, 0.9472, 0.9630, 0.9608, 0.9744, 0.9746, 0.9814, 0.9836, 0.9828]\n",
    "\n",
    "plt.figure()\n",
    "plt.title(\"Accuracies Compared On Test Set\")\n",
    "plt.ylabel(\"Accuracy (%)\")\n",
    "plt.xlabel(\"Step\")\n",
    "plt.plot(steps, IJEPA_acc, label=\"IJEPA\")\n",
    "plt.plot(steps, vit_acc, label=\"HF_ViT\")\n",
    "plt.legend()\n",
    "plt.savefig('./accuracies.png')"
   ]
  }
 ],
 "metadata": {
  "accelerator": "GPU",
  "colab": {
   "authorship_tag": "ABX9TyNjMMpB93EWSh6NkGBINmF4",
   "gpuType": "T4",
   "machine_shape": "hm",
   "provenance": []
  },
  "kernelspec": {
   "display_name": "Python 3",
   "name": "python3"
  },
  "language_info": {
   "codemirror_mode": {
    "name": "ipython",
    "version": 3
   },
   "file_extension": ".py",
   "mimetype": "text/x-python",
   "name": "python",
   "nbconvert_exporter": "python",
   "pygments_lexer": "ipython3",
   "version": "3.10.12"
  }
 },
 "nbformat": 4,
 "nbformat_minor": 0
}
